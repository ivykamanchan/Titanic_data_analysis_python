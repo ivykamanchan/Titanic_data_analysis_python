{
 "cells": [
  {
   "cell_type": "markdown",
   "id": "546d0357",
   "metadata": {},
   "source": [
    "## Exploratory Data Analysis on Titanic Passenger Data\n",
    "#### University of California, Berkeley | School of Information\n",
    "#### DATASC W200 Introduction to Data Science Programming | WBL 004 | Neha Singh | Spring 2022\n",
    "#### Project 2 Exploratory Data Analysis\n",
    "#### Team #2 | Kelianne Heinz & Ivy Chan \n",
    "#### GitHub repository | Project2_Chan_Heinz\n",
    "#### April 12, 2022"
   ]
  },
  {
   "cell_type": "code",
   "execution_count": 360,
   "id": "35dff9c0",
   "metadata": {},
   "outputs": [],
   "source": [
    "# Import libraries\n",
    "import pandas as pd\n",
    "import numpy as np\n",
    "import matplotlib.pyplot as plt\n",
    "import seaborn as sns\n",
    "%matplotlib inline"
   ]
  },
  {
   "cell_type": "code",
   "execution_count": 361,
   "id": "ccead710",
   "metadata": {},
   "outputs": [],
   "source": [
    "# Import dataset\n",
    "titanic = pd.read_csv('titanic3.csv')"
   ]
  },
  {
   "cell_type": "markdown",
   "id": "5a21f459",
   "metadata": {},
   "source": [
    "## Explore dataset"
   ]
  },
  {
   "cell_type": "code",
   "execution_count": 362,
   "id": "9fa0eb39",
   "metadata": {},
   "outputs": [
    {
     "data": {
      "text/html": [
       "<div>\n",
       "<style scoped>\n",
       "    .dataframe tbody tr th:only-of-type {\n",
       "        vertical-align: middle;\n",
       "    }\n",
       "\n",
       "    .dataframe tbody tr th {\n",
       "        vertical-align: top;\n",
       "    }\n",
       "\n",
       "    .dataframe thead th {\n",
       "        text-align: right;\n",
       "    }\n",
       "</style>\n",
       "<table border=\"1\" class=\"dataframe\">\n",
       "  <thead>\n",
       "    <tr style=\"text-align: right;\">\n",
       "      <th></th>\n",
       "      <th>pclass</th>\n",
       "      <th>survived</th>\n",
       "      <th>name</th>\n",
       "      <th>sex</th>\n",
       "      <th>age</th>\n",
       "      <th>sibsp</th>\n",
       "      <th>parch</th>\n",
       "      <th>ticket</th>\n",
       "      <th>fare</th>\n",
       "      <th>cabin</th>\n",
       "      <th>embarked</th>\n",
       "      <th>boat</th>\n",
       "      <th>body</th>\n",
       "      <th>home.dest</th>\n",
       "    </tr>\n",
       "  </thead>\n",
       "  <tbody>\n",
       "    <tr>\n",
       "      <th>0</th>\n",
       "      <td>1</td>\n",
       "      <td>1</td>\n",
       "      <td>Allen, Miss. Elisabeth Walton</td>\n",
       "      <td>female</td>\n",
       "      <td>29.00</td>\n",
       "      <td>0</td>\n",
       "      <td>0</td>\n",
       "      <td>24160</td>\n",
       "      <td>211.3375</td>\n",
       "      <td>B5</td>\n",
       "      <td>S</td>\n",
       "      <td>2</td>\n",
       "      <td>NaN</td>\n",
       "      <td>St Louis, MO</td>\n",
       "    </tr>\n",
       "    <tr>\n",
       "      <th>1</th>\n",
       "      <td>1</td>\n",
       "      <td>1</td>\n",
       "      <td>Allison, Master. Hudson Trevor</td>\n",
       "      <td>male</td>\n",
       "      <td>0.92</td>\n",
       "      <td>1</td>\n",
       "      <td>2</td>\n",
       "      <td>113781</td>\n",
       "      <td>151.5500</td>\n",
       "      <td>C22 C26</td>\n",
       "      <td>S</td>\n",
       "      <td>11</td>\n",
       "      <td>NaN</td>\n",
       "      <td>Montreal, PQ / Chesterville, ON</td>\n",
       "    </tr>\n",
       "    <tr>\n",
       "      <th>2</th>\n",
       "      <td>1</td>\n",
       "      <td>0</td>\n",
       "      <td>Allison, Miss. Helen Loraine</td>\n",
       "      <td>female</td>\n",
       "      <td>2.00</td>\n",
       "      <td>1</td>\n",
       "      <td>2</td>\n",
       "      <td>113781</td>\n",
       "      <td>151.5500</td>\n",
       "      <td>C22 C26</td>\n",
       "      <td>S</td>\n",
       "      <td>NaN</td>\n",
       "      <td>NaN</td>\n",
       "      <td>Montreal, PQ / Chesterville, ON</td>\n",
       "    </tr>\n",
       "    <tr>\n",
       "      <th>3</th>\n",
       "      <td>1</td>\n",
       "      <td>0</td>\n",
       "      <td>Allison, Mr. Hudson Joshua Creighton</td>\n",
       "      <td>male</td>\n",
       "      <td>30.00</td>\n",
       "      <td>1</td>\n",
       "      <td>2</td>\n",
       "      <td>113781</td>\n",
       "      <td>151.5500</td>\n",
       "      <td>C22 C26</td>\n",
       "      <td>S</td>\n",
       "      <td>NaN</td>\n",
       "      <td>135.0</td>\n",
       "      <td>Montreal, PQ / Chesterville, ON</td>\n",
       "    </tr>\n",
       "    <tr>\n",
       "      <th>4</th>\n",
       "      <td>1</td>\n",
       "      <td>0</td>\n",
       "      <td>Allison, Mrs. Hudson J C (Bessie Waldo Daniels)</td>\n",
       "      <td>female</td>\n",
       "      <td>25.00</td>\n",
       "      <td>1</td>\n",
       "      <td>2</td>\n",
       "      <td>113781</td>\n",
       "      <td>151.5500</td>\n",
       "      <td>C22 C26</td>\n",
       "      <td>S</td>\n",
       "      <td>NaN</td>\n",
       "      <td>NaN</td>\n",
       "      <td>Montreal, PQ / Chesterville, ON</td>\n",
       "    </tr>\n",
       "    <tr>\n",
       "      <th>...</th>\n",
       "      <td>...</td>\n",
       "      <td>...</td>\n",
       "      <td>...</td>\n",
       "      <td>...</td>\n",
       "      <td>...</td>\n",
       "      <td>...</td>\n",
       "      <td>...</td>\n",
       "      <td>...</td>\n",
       "      <td>...</td>\n",
       "      <td>...</td>\n",
       "      <td>...</td>\n",
       "      <td>...</td>\n",
       "      <td>...</td>\n",
       "      <td>...</td>\n",
       "    </tr>\n",
       "    <tr>\n",
       "      <th>1304</th>\n",
       "      <td>3</td>\n",
       "      <td>0</td>\n",
       "      <td>Zabour, Miss. Hileni</td>\n",
       "      <td>female</td>\n",
       "      <td>14.50</td>\n",
       "      <td>1</td>\n",
       "      <td>0</td>\n",
       "      <td>2665</td>\n",
       "      <td>14.4542</td>\n",
       "      <td>NaN</td>\n",
       "      <td>C</td>\n",
       "      <td>NaN</td>\n",
       "      <td>328.0</td>\n",
       "      <td>NaN</td>\n",
       "    </tr>\n",
       "    <tr>\n",
       "      <th>1305</th>\n",
       "      <td>3</td>\n",
       "      <td>0</td>\n",
       "      <td>Zabour, Miss. Thamine</td>\n",
       "      <td>female</td>\n",
       "      <td>NaN</td>\n",
       "      <td>1</td>\n",
       "      <td>0</td>\n",
       "      <td>2665</td>\n",
       "      <td>14.4542</td>\n",
       "      <td>NaN</td>\n",
       "      <td>C</td>\n",
       "      <td>NaN</td>\n",
       "      <td>NaN</td>\n",
       "      <td>NaN</td>\n",
       "    </tr>\n",
       "    <tr>\n",
       "      <th>1306</th>\n",
       "      <td>3</td>\n",
       "      <td>0</td>\n",
       "      <td>Zakarian, Mr. Mapriededer</td>\n",
       "      <td>male</td>\n",
       "      <td>26.50</td>\n",
       "      <td>0</td>\n",
       "      <td>0</td>\n",
       "      <td>2656</td>\n",
       "      <td>7.2250</td>\n",
       "      <td>NaN</td>\n",
       "      <td>C</td>\n",
       "      <td>NaN</td>\n",
       "      <td>304.0</td>\n",
       "      <td>NaN</td>\n",
       "    </tr>\n",
       "    <tr>\n",
       "      <th>1307</th>\n",
       "      <td>3</td>\n",
       "      <td>0</td>\n",
       "      <td>Zakarian, Mr. Ortin</td>\n",
       "      <td>male</td>\n",
       "      <td>27.00</td>\n",
       "      <td>0</td>\n",
       "      <td>0</td>\n",
       "      <td>2670</td>\n",
       "      <td>7.2250</td>\n",
       "      <td>NaN</td>\n",
       "      <td>C</td>\n",
       "      <td>NaN</td>\n",
       "      <td>NaN</td>\n",
       "      <td>NaN</td>\n",
       "    </tr>\n",
       "    <tr>\n",
       "      <th>1308</th>\n",
       "      <td>3</td>\n",
       "      <td>0</td>\n",
       "      <td>Zimmerman, Mr. Leo</td>\n",
       "      <td>male</td>\n",
       "      <td>29.00</td>\n",
       "      <td>0</td>\n",
       "      <td>0</td>\n",
       "      <td>315082</td>\n",
       "      <td>7.8750</td>\n",
       "      <td>NaN</td>\n",
       "      <td>S</td>\n",
       "      <td>NaN</td>\n",
       "      <td>NaN</td>\n",
       "      <td>NaN</td>\n",
       "    </tr>\n",
       "  </tbody>\n",
       "</table>\n",
       "<p>1309 rows × 14 columns</p>\n",
       "</div>"
      ],
      "text/plain": [
       "      pclass  survived                                             name  \\\n",
       "0          1         1                    Allen, Miss. Elisabeth Walton   \n",
       "1          1         1                   Allison, Master. Hudson Trevor   \n",
       "2          1         0                     Allison, Miss. Helen Loraine   \n",
       "3          1         0             Allison, Mr. Hudson Joshua Creighton   \n",
       "4          1         0  Allison, Mrs. Hudson J C (Bessie Waldo Daniels)   \n",
       "...      ...       ...                                              ...   \n",
       "1304       3         0                             Zabour, Miss. Hileni   \n",
       "1305       3         0                            Zabour, Miss. Thamine   \n",
       "1306       3         0                        Zakarian, Mr. Mapriededer   \n",
       "1307       3         0                              Zakarian, Mr. Ortin   \n",
       "1308       3         0                               Zimmerman, Mr. Leo   \n",
       "\n",
       "         sex    age  sibsp  parch  ticket      fare    cabin embarked boat  \\\n",
       "0     female  29.00      0      0   24160  211.3375       B5        S    2   \n",
       "1       male   0.92      1      2  113781  151.5500  C22 C26        S   11   \n",
       "2     female   2.00      1      2  113781  151.5500  C22 C26        S  NaN   \n",
       "3       male  30.00      1      2  113781  151.5500  C22 C26        S  NaN   \n",
       "4     female  25.00      1      2  113781  151.5500  C22 C26        S  NaN   \n",
       "...      ...    ...    ...    ...     ...       ...      ...      ...  ...   \n",
       "1304  female  14.50      1      0    2665   14.4542      NaN        C  NaN   \n",
       "1305  female    NaN      1      0    2665   14.4542      NaN        C  NaN   \n",
       "1306    male  26.50      0      0    2656    7.2250      NaN        C  NaN   \n",
       "1307    male  27.00      0      0    2670    7.2250      NaN        C  NaN   \n",
       "1308    male  29.00      0      0  315082    7.8750      NaN        S  NaN   \n",
       "\n",
       "       body                        home.dest  \n",
       "0       NaN                     St Louis, MO  \n",
       "1       NaN  Montreal, PQ / Chesterville, ON  \n",
       "2       NaN  Montreal, PQ / Chesterville, ON  \n",
       "3     135.0  Montreal, PQ / Chesterville, ON  \n",
       "4       NaN  Montreal, PQ / Chesterville, ON  \n",
       "...     ...                              ...  \n",
       "1304  328.0                              NaN  \n",
       "1305    NaN                              NaN  \n",
       "1306  304.0                              NaN  \n",
       "1307    NaN                              NaN  \n",
       "1308    NaN                              NaN  \n",
       "\n",
       "[1309 rows x 14 columns]"
      ]
     },
     "execution_count": 362,
     "metadata": {},
     "output_type": "execute_result"
    }
   ],
   "source": [
    "# Check rows & columns\n",
    "titanic"
   ]
  },
  {
   "cell_type": "code",
   "execution_count": 363,
   "id": "a3d774d8",
   "metadata": {},
   "outputs": [
    {
     "data": {
      "text/plain": [
       "Index(['pclass', 'survived', 'name', 'sex', 'age', 'sibsp', 'parch', 'ticket',\n",
       "       'fare', 'cabin', 'embarked', 'boat', 'body', 'home.dest'],\n",
       "      dtype='object')"
      ]
     },
     "execution_count": 363,
     "metadata": {},
     "output_type": "execute_result"
    }
   ],
   "source": [
    "# Check column names\n",
    "titanic.columns"
   ]
  },
  {
   "cell_type": "code",
   "execution_count": 364,
   "id": "97bfd0bb",
   "metadata": {},
   "outputs": [
    {
     "data": {
      "text/html": [
       "<div>\n",
       "<style scoped>\n",
       "    .dataframe tbody tr th:only-of-type {\n",
       "        vertical-align: middle;\n",
       "    }\n",
       "\n",
       "    .dataframe tbody tr th {\n",
       "        vertical-align: top;\n",
       "    }\n",
       "\n",
       "    .dataframe thead th {\n",
       "        text-align: right;\n",
       "    }\n",
       "</style>\n",
       "<table border=\"1\" class=\"dataframe\">\n",
       "  <thead>\n",
       "    <tr style=\"text-align: right;\">\n",
       "      <th></th>\n",
       "      <th>pclass</th>\n",
       "      <th>survived</th>\n",
       "      <th>age</th>\n",
       "      <th>sibsp</th>\n",
       "      <th>parch</th>\n",
       "      <th>fare</th>\n",
       "      <th>body</th>\n",
       "    </tr>\n",
       "  </thead>\n",
       "  <tbody>\n",
       "    <tr>\n",
       "      <th>count</th>\n",
       "      <td>1309.000000</td>\n",
       "      <td>1309.000000</td>\n",
       "      <td>1046.000000</td>\n",
       "      <td>1309.000000</td>\n",
       "      <td>1309.000000</td>\n",
       "      <td>1308.000000</td>\n",
       "      <td>121.000000</td>\n",
       "    </tr>\n",
       "    <tr>\n",
       "      <th>mean</th>\n",
       "      <td>2.294882</td>\n",
       "      <td>0.381971</td>\n",
       "      <td>29.881138</td>\n",
       "      <td>0.498854</td>\n",
       "      <td>0.385027</td>\n",
       "      <td>33.295479</td>\n",
       "      <td>160.809917</td>\n",
       "    </tr>\n",
       "    <tr>\n",
       "      <th>std</th>\n",
       "      <td>0.837836</td>\n",
       "      <td>0.486055</td>\n",
       "      <td>14.413493</td>\n",
       "      <td>1.041658</td>\n",
       "      <td>0.865560</td>\n",
       "      <td>51.758668</td>\n",
       "      <td>97.696922</td>\n",
       "    </tr>\n",
       "    <tr>\n",
       "      <th>min</th>\n",
       "      <td>1.000000</td>\n",
       "      <td>0.000000</td>\n",
       "      <td>0.170000</td>\n",
       "      <td>0.000000</td>\n",
       "      <td>0.000000</td>\n",
       "      <td>0.000000</td>\n",
       "      <td>1.000000</td>\n",
       "    </tr>\n",
       "    <tr>\n",
       "      <th>25%</th>\n",
       "      <td>2.000000</td>\n",
       "      <td>0.000000</td>\n",
       "      <td>21.000000</td>\n",
       "      <td>0.000000</td>\n",
       "      <td>0.000000</td>\n",
       "      <td>7.895800</td>\n",
       "      <td>72.000000</td>\n",
       "    </tr>\n",
       "    <tr>\n",
       "      <th>50%</th>\n",
       "      <td>3.000000</td>\n",
       "      <td>0.000000</td>\n",
       "      <td>28.000000</td>\n",
       "      <td>0.000000</td>\n",
       "      <td>0.000000</td>\n",
       "      <td>14.454200</td>\n",
       "      <td>155.000000</td>\n",
       "    </tr>\n",
       "    <tr>\n",
       "      <th>75%</th>\n",
       "      <td>3.000000</td>\n",
       "      <td>1.000000</td>\n",
       "      <td>39.000000</td>\n",
       "      <td>1.000000</td>\n",
       "      <td>0.000000</td>\n",
       "      <td>31.275000</td>\n",
       "      <td>256.000000</td>\n",
       "    </tr>\n",
       "    <tr>\n",
       "      <th>max</th>\n",
       "      <td>3.000000</td>\n",
       "      <td>1.000000</td>\n",
       "      <td>80.000000</td>\n",
       "      <td>8.000000</td>\n",
       "      <td>9.000000</td>\n",
       "      <td>512.329200</td>\n",
       "      <td>328.000000</td>\n",
       "    </tr>\n",
       "  </tbody>\n",
       "</table>\n",
       "</div>"
      ],
      "text/plain": [
       "            pclass     survived          age        sibsp        parch  \\\n",
       "count  1309.000000  1309.000000  1046.000000  1309.000000  1309.000000   \n",
       "mean      2.294882     0.381971    29.881138     0.498854     0.385027   \n",
       "std       0.837836     0.486055    14.413493     1.041658     0.865560   \n",
       "min       1.000000     0.000000     0.170000     0.000000     0.000000   \n",
       "25%       2.000000     0.000000    21.000000     0.000000     0.000000   \n",
       "50%       3.000000     0.000000    28.000000     0.000000     0.000000   \n",
       "75%       3.000000     1.000000    39.000000     1.000000     0.000000   \n",
       "max       3.000000     1.000000    80.000000     8.000000     9.000000   \n",
       "\n",
       "              fare        body  \n",
       "count  1308.000000  121.000000  \n",
       "mean     33.295479  160.809917  \n",
       "std      51.758668   97.696922  \n",
       "min       0.000000    1.000000  \n",
       "25%       7.895800   72.000000  \n",
       "50%      14.454200  155.000000  \n",
       "75%      31.275000  256.000000  \n",
       "max     512.329200  328.000000  "
      ]
     },
     "execution_count": 364,
     "metadata": {},
     "output_type": "execute_result"
    }
   ],
   "source": [
    "# Check statistics\n",
    "titanic.describe()"
   ]
  },
  {
   "cell_type": "code",
   "execution_count": 365,
   "id": "79e9dc72",
   "metadata": {},
   "outputs": [
    {
     "name": "stdout",
     "output_type": "stream",
     "text": [
      "<class 'pandas.core.frame.DataFrame'>\n",
      "RangeIndex: 1309 entries, 0 to 1308\n",
      "Data columns (total 14 columns):\n",
      " #   Column     Non-Null Count  Dtype  \n",
      "---  ------     --------------  -----  \n",
      " 0   pclass     1309 non-null   int64  \n",
      " 1   survived   1309 non-null   int64  \n",
      " 2   name       1309 non-null   object \n",
      " 3   sex        1309 non-null   object \n",
      " 4   age        1046 non-null   float64\n",
      " 5   sibsp      1309 non-null   int64  \n",
      " 6   parch      1309 non-null   int64  \n",
      " 7   ticket     1309 non-null   object \n",
      " 8   fare       1308 non-null   float64\n",
      " 9   cabin      295 non-null    object \n",
      " 10  embarked   1307 non-null   object \n",
      " 11  boat       486 non-null    object \n",
      " 12  body       121 non-null    float64\n",
      " 13  home.dest  745 non-null    object \n",
      "dtypes: float64(3), int64(4), object(7)\n",
      "memory usage: 143.3+ KB\n"
     ]
    }
   ],
   "source": [
    "# Check data type and non-null count. Dataset looks good.\n",
    "titanic.info()"
   ]
  },
  {
   "cell_type": "code",
   "execution_count": 366,
   "id": "a47d8a06",
   "metadata": {},
   "outputs": [
    {
     "data": {
      "text/plain": [
       "<AxesSubplot:>"
      ]
     },
     "execution_count": 366,
     "metadata": {},
     "output_type": "execute_result"
    },
    {
     "data": {
      "image/png": "[encoded data removed]",
      "text/plain": [
       "<Figure size 720x432 with 2 Axes>"
      ]
     },
     "metadata": {
      "needs_background": "light"
     },
     "output_type": "display_data"
    }
   ],
   "source": [
    "# generate correlation heatmap \n",
    "colormap = plt.cm.Blues\n",
    "plt.figure(figsize=(10,6))\n",
    "sns.set_style(\"ticks\")\n",
    "sns.heatmap(titanic.corr(), cmap=colormap, annot=True, linewidths=0.2)"
   ]
  },
  {
   "cell_type": "code",
   "execution_count": 367,
   "id": "8430c083",
   "metadata": {},
   "outputs": [],
   "source": [
    "# Create boolean column for sex - 0 for male, 1 for female.\n",
    "titanic['gender'] = 0\n",
    "titanic.loc[titanic.sex == 'female', 'gender'] = 1"
   ]
  },
  {
   "cell_type": "code",
   "execution_count": 368,
   "id": "d092ae5b",
   "metadata": {},
   "outputs": [
    {
     "data": {
      "image/png": "[encoded data removed]",
      "text/plain": [
       "<Figure size 720x432 with 2 Axes>"
      ]
     },
     "metadata": {},
     "output_type": "display_data"
    }
   ],
   "source": [
    "# generate correlation heatmap\n",
    "colormap = plt.cm.Blues\n",
    "plt.figure(figsize=(10,6))\n",
    "sns.set_style(\"ticks\")\n",
    "correlation = titanic.corr()\n",
    "mask = np.triu(np.ones_like(correlation, dtype=bool))\n",
    "sns.heatmap(correlation, cmap=colormap, annot=True,\n",
    "            linewidths=0.2, mask=mask)\n",
    "pass"
   ]
  },
  {
   "cell_type": "code",
   "execution_count": 369,
   "id": "91312292",
   "metadata": {},
   "outputs": [
    {
     "data": {
      "text/plain": [
       "pclass          0\n",
       "survived        0\n",
       "name            0\n",
       "sex             0\n",
       "age           263\n",
       "sibsp           0\n",
       "parch           0\n",
       "ticket          0\n",
       "fare            1\n",
       "cabin        1014\n",
       "embarked        2\n",
       "boat          823\n",
       "body         1188\n",
       "home.dest     564\n",
       "gender          0\n",
       "dtype: int64"
      ]
     },
     "execution_count": 369,
     "metadata": {},
     "output_type": "execute_result"
    }
   ],
   "source": [
    "# Check null count\n",
    "titanic.isnull().sum()"
   ]
  },
  {
   "cell_type": "code",
   "execution_count": 370,
   "id": "4941c476",
   "metadata": {},
   "outputs": [
    {
     "name": "stdout",
     "output_type": "stream",
     "text": [
      "Column Name: pclass\n",
      "3    709\n",
      "1    323\n",
      "2    277\n",
      "Name: pclass, dtype: int64\n",
      "\n",
      "Column Name: survived\n",
      "0    809\n",
      "1    500\n",
      "Name: survived, dtype: int64\n",
      "\n",
      "Column Name: name\n",
      "Connolly, Miss. Kate             2\n",
      "Kelly, Mr. James                 2\n",
      "Allen, Miss. Elisabeth Walton    1\n",
      "Ilmakangas, Miss. Ida Livija     1\n",
      "Ilieff, Mr. Ylio                 1\n",
      "                                ..\n",
      "Hart, Miss. Eva Miriam           1\n",
      "Harris, Mr. Walter               1\n",
      "Harris, Mr. George               1\n",
      "Harper, Rev. John                1\n",
      "Zimmerman, Mr. Leo               1\n",
      "Name: name, Length: 1307, dtype: int64\n",
      "\n",
      "Column Name: sex\n",
      "male      843\n",
      "female    466\n",
      "Name: sex, dtype: int64\n",
      "\n",
      "Column Name: age\n",
      "NaN      263\n",
      "24.00     47\n",
      "22.00     43\n",
      "21.00     41\n",
      "30.00     40\n",
      "        ... \n",
      "66.00      1\n",
      "0.67       1\n",
      "76.00      1\n",
      "67.00      1\n",
      "26.50      1\n",
      "Name: age, Length: 99, dtype: int64\n",
      "\n",
      "Column Name: sibsp\n",
      "0    891\n",
      "1    319\n",
      "2     42\n",
      "4     22\n",
      "3     20\n",
      "8      9\n",
      "5      6\n",
      "Name: sibsp, dtype: int64\n",
      "\n",
      "Column Name: parch\n",
      "0    1002\n",
      "1     170\n",
      "2     113\n",
      "3       8\n",
      "4       6\n",
      "5       6\n",
      "6       2\n",
      "9       2\n",
      "Name: parch, dtype: int64\n",
      "\n",
      "Column Name: ticket\n",
      "CA. 2343    11\n",
      "1601         8\n",
      "CA 2144      8\n",
      "PC 17608     7\n",
      "347077       7\n",
      "            ..\n",
      "373450       1\n",
      "2223         1\n",
      "350046       1\n",
      "3101281      1\n",
      "315082       1\n",
      "Name: ticket, Length: 929, dtype: int64\n",
      "\n",
      "Column Name: fare\n",
      "8.0500     60\n",
      "13.0000    59\n",
      "7.7500     55\n",
      "26.0000    50\n",
      "7.8958     49\n",
      "           ..\n",
      "15.0500     1\n",
      "14.0000     1\n",
      "15.5792     1\n",
      "12.0000     1\n",
      "7.8750      1\n",
      "Name: fare, Length: 282, dtype: int64\n",
      "\n",
      "Column Name: cabin\n",
      "NaN                1014\n",
      "C23 C25 C27           6\n",
      "G6                    5\n",
      "B57 B59 B63 B66       5\n",
      "C22 C26               4\n",
      "                   ... \n",
      "E63                   1\n",
      "B102                  1\n",
      "B39                   1\n",
      "D40                   1\n",
      "F38                   1\n",
      "Name: cabin, Length: 187, dtype: int64\n",
      "\n",
      "Column Name: embarked\n",
      "S      914\n",
      "C      270\n",
      "Q      123\n",
      "NaN      2\n",
      "Name: embarked, dtype: int64\n",
      "\n",
      "Column Name: boat\n",
      "NaN        823\n",
      "13          39\n",
      "C           38\n",
      "15          37\n",
      "14          33\n",
      "4           31\n",
      "10          29\n",
      "5           27\n",
      "3           26\n",
      "9           25\n",
      "11          25\n",
      "16          23\n",
      "8           23\n",
      "7           23\n",
      "D           20\n",
      "6           20\n",
      "12          19\n",
      "2           13\n",
      "A           11\n",
      "B            9\n",
      "1            5\n",
      "5 7          2\n",
      "C D          2\n",
      "13 15        2\n",
      "5 9          1\n",
      "8 10         1\n",
      "13 15 B      1\n",
      "15 16        1\n",
      "Name: boat, dtype: int64\n",
      "\n",
      "Column Name: body\n",
      "NaN      1188\n",
      "58.0        1\n",
      "285.0       1\n",
      "156.0       1\n",
      "143.0       1\n",
      "         ... \n",
      "174.0       1\n",
      "169.0       1\n",
      "245.0       1\n",
      "46.0        1\n",
      "304.0       1\n",
      "Name: body, Length: 122, dtype: int64\n",
      "\n",
      "Column Name: home.dest\n",
      "NaN                                             564\n",
      "New York, NY                                     64\n",
      "London                                           14\n",
      "Montreal, PQ                                     10\n",
      "Paris, France                                     9\n",
      "                                               ... \n",
      "Chelsea, London                                   1\n",
      "Harrow-on-the-Hill, Middlesex                     1\n",
      "Copenhagen, Denmark                               1\n",
      "Guernsey / Montclair, NJ and/or Toledo, Ohio      1\n",
      "Antwerp, Belgium / Stanton, OH                    1\n",
      "Name: home.dest, Length: 370, dtype: int64\n",
      "\n",
      "Column Name: gender\n",
      "0    843\n",
      "1    466\n",
      "Name: gender, dtype: int64\n",
      "\n"
     ]
    }
   ],
   "source": [
    "# Check column values\n",
    "for (columnName, columnData) in titanic.iteritems():\n",
    "    print('Column Name:', columnName)\n",
    "    print(columnData.value_counts(dropna=False))\n",
    "    print(\"\")"
   ]
  },
  {
   "cell_type": "markdown",
   "id": "c66a798c",
   "metadata": {},
   "source": [
    "## Who Was On Board the Titanic When It Sank?\n",
    "#### Age Distribution\n",
    "#### Gender Distribution\n",
    "#### Class level distribution\n",
    "#### Distribution of how many relatives passengers were travelling with"
   ]
  },
  {
   "cell_type": "code",
   "execution_count": 371,
   "id": "e868b272",
   "metadata": {},
   "outputs": [],
   "source": [
    "# Set style and themes to use throughout.\n",
    "sns.set_theme(style='ticks', palette='pastel')\n",
    "sns.set_style(style='white')"
   ]
  },
  {
   "cell_type": "code",
   "execution_count": 372,
   "id": "a428e62b",
   "metadata": {},
   "outputs": [
    {
     "data": {
      "image/png": "[encoded data removed]",
      "text/plain": [
       "<Figure size 936.85x432 with 1 Axes>"
      ]
     },
     "metadata": {},
     "output_type": "display_data"
    }
   ],
   "source": [
    "# Age Distribution Plot.\n",
    "age_dist = sns.displot(titanic, x='age', hue='sex',\n",
    "                       multiple='stack', height=6, aspect=2)\n",
    "age_dist.set(title=\"Titanic Passenger Age Distribution\")\n",
    "age_dist.set(ylabel = \"Number of Passengers\", xlabel = \"Age\")\n",
    "age_dist._legend.set(bbox_to_anchor=(0.8,0.8), title=\"Sex\")\n",
    "pass"
   ]
  },
  {
   "cell_type": "code",
   "execution_count": 373,
   "id": "7e361f34",
   "metadata": {},
   "outputs": [
    {
     "data": {
      "image/png": "[encoded data removed]",
      "text/plain": [
       "<Figure size 504x288 with 1 Axes>"
      ]
     },
     "metadata": {},
     "output_type": "display_data"
    }
   ],
   "source": [
    "# Gender Distribution Plot.\n",
    "# Set appearance parameters.\n",
    "sns.set(rc={'figure.figsize':(7,4)})\n",
    "sns.set_theme(style='ticks', palette='pastel')\n",
    "sns.set_style(style='white')\n",
    "\n",
    "# Plot data.\n",
    "sex_dist = sns.countplot(data=titanic, x='sex')\n",
    "\n",
    "# Add labels.\n",
    "sex_dist.set(title=\"Titanic Passenger Gender Distribution\",\n",
    "             ylabel=\"Number of Passengers\", xlabel=\"Sex\")\n",
    "sex_dist.text(x = 0, y=300, s=\"466\", ha='center', fontsize=12)\n",
    "sex_dist.text(x = 1, y=700, s=\"843\", ha='center', fontsize=12)\n",
    "pass"
   ]
  },
  {
   "cell_type": "code",
   "execution_count": 374,
   "id": "e06bc9c0",
   "metadata": {},
   "outputs": [
    {
     "data": {
      "image/png": "[encoded data removed]",
      "text/plain": [
       "<Figure size 504x288 with 1 Axes>"
      ]
     },
     "metadata": {},
     "output_type": "display_data"
    }
   ],
   "source": [
    "# Class Level Distribution\n",
    "# Set appearance parameters.\n",
    "sns.set(rc={'figure.figsize':(7,4)})\n",
    "sns.set_theme(style='ticks', palette='pastel')\n",
    "sns.set_style(style='white')\n",
    "\n",
    "# Plot data.\n",
    "cls_dist = sns.countplot(data=titanic, x='pclass')\n",
    "\n",
    "# Add labels.\n",
    "cls_dist.set(title=\"Titanic Passenger Class Distribution\",\n",
    "             ylabel=\"Number of Passengers\", xlabel=\"Passenger Class\",\n",
    "             xticklabels=[\"1st Class\", \"2nd Class\", \"3rd Class\"])\n",
    "cls_dist.text(x = 0, y=230, s=\"323\", ha='center', fontsize=12)\n",
    "cls_dist.text(x = 1, y=180, s=\"277\", ha='center', fontsize=12)\n",
    "cls_dist.text(x = 2, y=600, s=\"709\", ha='center', fontsize=12)\n",
    "pass"
   ]
  },
  {
   "cell_type": "code",
   "execution_count": 375,
   "id": "63e73048",
   "metadata": {},
   "outputs": [
    {
     "data": {
      "text/plain": [
       "0     790\n",
       "1     235\n",
       "2     159\n",
       "3      43\n",
       "5      25\n",
       "4      22\n",
       "6      16\n",
       "10     11\n",
       "7       8\n",
       "Name: total_relatives, dtype: int64"
      ]
     },
     "execution_count": 375,
     "metadata": {},
     "output_type": "execute_result"
    }
   ],
   "source": [
    "# New column for relatives per titanic passenger.\n",
    "# Total relatives = sibling & spouse + parent & children\n",
    "titanic['total_relatives'] = titanic['sibsp'] + titanic['parch']\n",
    "titanic['total_relatives'].value_counts()"
   ]
  },
  {
   "cell_type": "code",
   "execution_count": 376,
   "id": "55257aad",
   "metadata": {},
   "outputs": [
    {
     "data": {
      "image/png": "[encoded data removed]",
      "text/plain": [
       "<Figure size 864x288 with 3 Axes>"
      ]
     },
     "metadata": {},
     "output_type": "display_data"
    }
   ],
   "source": [
    "# Distribution of relatives per titanic passenger\n",
    "fig,ax = plt.subplots(1,3, sharey=True, figsize=(12,4))\n",
    "fig.suptitle(\"Distribution of Passengers Travelling With Family\")\n",
    "\n",
    "# Create plots.\n",
    "sns.countplot(data=titanic, x='total_relatives', ax=ax[0]).set(\n",
    "              xlabel=\"Total Num. Relatives\\nOn Board\",\n",
    "              ylabel=\"Count of Passengers\")\n",
    "sns.countplot(data=titanic, x='parch', ax=ax[1]).set(\n",
    "              ylabel=None, xlabel=\"Num. Parents & Children\\nOn Board\")\n",
    "sns.countplot(data=titanic, x='sibsp', ax=ax[2]).set(\n",
    "              ylabel=None, xlabel=\"Num. Siblings & Spouses\\nOn Board\")\n",
    "pass"
   ]
  },
  {
   "cell_type": "markdown",
   "id": "10f699de",
   "metadata": {},
   "source": [
    "## Where were these passengers coming from, and where were they going?\n",
    "#### port\n",
    "####  port & class\n",
    "####  top 10 destinations\n",
    "####  port, class & fare\n",
    "####  no cost fare\n",
    "####  sex & fare"
   ]
  },
  {
   "cell_type": "code",
   "execution_count": 377,
   "id": "47d3608d",
   "metadata": {},
   "outputs": [],
   "source": [
    "# New column for assigning full names for embarkation port\n",
    "titanic.loc[titanic[\"embarked\"]=='C',\"embarked_port\"] = \"Cherbourg\"\n",
    "titanic.loc[titanic[\"embarked\"]=='Q',\"embarked_port\"] = \"Queenstown\"\n",
    "titanic.loc[titanic[\"embarked\"]=='S',\"embarked_port\"] = \"Southampton\""
   ]
  },
  {
   "cell_type": "code",
   "execution_count": 378,
   "id": "86ad2e40",
   "metadata": {},
   "outputs": [],
   "source": [
    "# New column for assigning \"Survived\" and \"Died\" for survivied_status\n",
    "titanic[\"survived_status\"] = \"Survived\"\n",
    "titanic.loc[titanic[\"survived\"]==0,\"survived_status\"] = \"Died\""
   ]
  },
  {
   "cell_type": "code",
   "execution_count": 379,
   "id": "8923e990",
   "metadata": {},
   "outputs": [
    {
     "data": {
      "text/plain": [
       "Southampton    914\n",
       "Cherbourg      270\n",
       "Queenstown     123\n",
       "Name: embarked_port, dtype: int64"
      ]
     },
     "execution_count": 379,
     "metadata": {},
     "output_type": "execute_result"
    }
   ],
   "source": [
    "# Number of passengers embarked in each port\n",
    "embarked_port_df = titanic['embarked_port'].value_counts()\n",
    "embarked_port_df"
   ]
  },
  {
   "cell_type": "code",
   "execution_count": 380,
   "id": "d7a66e13",
   "metadata": {},
   "outputs": [
    {
     "data": {
      "text/html": [
       "<div>\n",
       "<style scoped>\n",
       "    .dataframe tbody tr th:only-of-type {\n",
       "        vertical-align: middle;\n",
       "    }\n",
       "\n",
       "    .dataframe tbody tr th {\n",
       "        vertical-align: top;\n",
       "    }\n",
       "\n",
       "    .dataframe thead th {\n",
       "        text-align: right;\n",
       "    }\n",
       "</style>\n",
       "<table border=\"1\" class=\"dataframe\">\n",
       "  <thead>\n",
       "    <tr style=\"text-align: right;\">\n",
       "      <th></th>\n",
       "      <th>pclass</th>\n",
       "      <th>survived</th>\n",
       "      <th>name</th>\n",
       "      <th>sex</th>\n",
       "      <th>age</th>\n",
       "      <th>sibsp</th>\n",
       "      <th>parch</th>\n",
       "      <th>ticket</th>\n",
       "      <th>fare</th>\n",
       "      <th>cabin</th>\n",
       "      <th>embarked</th>\n",
       "      <th>boat</th>\n",
       "      <th>body</th>\n",
       "      <th>home.dest</th>\n",
       "      <th>gender</th>\n",
       "      <th>total_relatives</th>\n",
       "      <th>embarked_port</th>\n",
       "      <th>survived_status</th>\n",
       "    </tr>\n",
       "  </thead>\n",
       "  <tbody>\n",
       "    <tr>\n",
       "      <th>168</th>\n",
       "      <td>1</td>\n",
       "      <td>1</td>\n",
       "      <td>Icard, Miss. Amelie</td>\n",
       "      <td>female</td>\n",
       "      <td>38.0</td>\n",
       "      <td>0</td>\n",
       "      <td>0</td>\n",
       "      <td>113572</td>\n",
       "      <td>80.0</td>\n",
       "      <td>B28</td>\n",
       "      <td>NaN</td>\n",
       "      <td>6</td>\n",
       "      <td>NaN</td>\n",
       "      <td>NaN</td>\n",
       "      <td>1</td>\n",
       "      <td>0</td>\n",
       "      <td>NaN</td>\n",
       "      <td>Survived</td>\n",
       "    </tr>\n",
       "    <tr>\n",
       "      <th>284</th>\n",
       "      <td>1</td>\n",
       "      <td>1</td>\n",
       "      <td>Stone, Mrs. George Nelson (Martha Evelyn)</td>\n",
       "      <td>female</td>\n",
       "      <td>62.0</td>\n",
       "      <td>0</td>\n",
       "      <td>0</td>\n",
       "      <td>113572</td>\n",
       "      <td>80.0</td>\n",
       "      <td>B28</td>\n",
       "      <td>NaN</td>\n",
       "      <td>6</td>\n",
       "      <td>NaN</td>\n",
       "      <td>Cincinatti, OH</td>\n",
       "      <td>1</td>\n",
       "      <td>0</td>\n",
       "      <td>NaN</td>\n",
       "      <td>Survived</td>\n",
       "    </tr>\n",
       "  </tbody>\n",
       "</table>\n",
       "</div>"
      ],
      "text/plain": [
       "     pclass  survived                                       name     sex  \\\n",
       "168       1         1                        Icard, Miss. Amelie  female   \n",
       "284       1         1  Stone, Mrs. George Nelson (Martha Evelyn)  female   \n",
       "\n",
       "      age  sibsp  parch  ticket  fare cabin embarked boat  body  \\\n",
       "168  38.0      0      0  113572  80.0   B28      NaN    6   NaN   \n",
       "284  62.0      0      0  113572  80.0   B28      NaN    6   NaN   \n",
       "\n",
       "          home.dest  gender  total_relatives embarked_port survived_status  \n",
       "168             NaN       1                0           NaN        Survived  \n",
       "284  Cincinatti, OH       1                0           NaN        Survived  "
      ]
     },
     "execution_count": 380,
     "metadata": {},
     "output_type": "execute_result"
    }
   ],
   "source": [
    "# Number of passenger who didn't have the embarkation port\n",
    "titanic[titanic['embarked'].isnull()]"
   ]
  },
  {
   "cell_type": "code",
   "execution_count": 381,
   "id": "327bf2b0",
   "metadata": {},
   "outputs": [
    {
     "data": {
      "image/png": "[encoded data removed]",
      "text/plain": [
       "<Figure size 504x288 with 1 Axes>"
      ]
     },
     "metadata": {},
     "output_type": "display_data"
    }
   ],
   "source": [
    "# Number of passenger embarked in each port\n",
    "sns.set_style(\"ticks\")\n",
    "\n",
    "# Plot embarkation data.\n",
    "ax = sns.countplot(x='embarked_port',data=titanic, palette='pastel')\n",
    "\n",
    "# Add labels and titles.\n",
    "ax.set(title = 'Number of Passenger Embarked in Port')\n",
    "plt.xlabel('Embarked Port')\n",
    "plt.ylabel('Number of Passenger')\n",
    "ax.text(x = 0, y=800, s=\"914\", ha='center', fontsize=12)\n",
    "ax.text(x = 1, y=200, s=\"270\", ha='center', fontsize=12)\n",
    "ax.text(x = 2, y=50, s=\"123\", ha='center', fontsize=12)\n",
    "pass"
   ]
  },
  {
   "cell_type": "code",
   "execution_count": 382,
   "id": "5e9dd181",
   "metadata": {},
   "outputs": [
    {
     "data": {
      "image/png": "[encoded data removed]",
      "text/plain": [
       "<Figure size 504x288 with 1 Axes>"
      ]
     },
     "metadata": {},
     "output_type": "display_data"
    }
   ],
   "source": [
    "# Number of passenger in different class embarked in each port\n",
    "sns.set_style(\"ticks\")\n",
    "\n",
    "# Plot embarkation and pclass data.\n",
    "ax = sns.countplot(x='embarked_port',hue='pclass',\n",
    "                   data=titanic, palette = 'pastel')\n",
    "\n",
    "# Add labels and titles.\n",
    "ax.set(title = 'Number of Different Class Passenger Embarked in Port')\n",
    "plt.xlabel('Embarked Port')\n",
    "plt.ylabel('Number of Passenger')\n",
    "ax.text(x = -0.275, y=130, s=\"177\", ha='center', fontsize=12)\n",
    "ax.text(x = 0, y=200, s=\"242\", ha='center', fontsize=12)\n",
    "ax.text(x = 0.275, y=450, s=\"495\", ha='center', fontsize=12)\n",
    "ax.text(x = 0.73, y=110, s=\"141\", ha='center', fontsize=12)\n",
    "ax.text(x = 1, y=30, s=\"28\", ha='center', fontsize=12)\n",
    "ax.text(x = 1.275, y=70, s=\"101\", ha='center', fontsize=12)\n",
    "ax.text(x = 1.75, y=20, s=\"3\", ha='center', fontsize=12)\n",
    "ax.text(x = 2, y=30, s=\"7\", ha='center', fontsize=12)\n",
    "ax.text(x = 2.275, y=70, s=\"113\", ha='center', fontsize=12)\n",
    "pass"
   ]
  },
  {
   "cell_type": "code",
   "execution_count": 383,
   "id": "5423d96e",
   "metadata": {},
   "outputs": [
    {
     "name": "stdout",
     "output_type": "stream",
     "text": [
      "New York, NY                            64\n",
      "London                                  14\n",
      "Montreal, PQ                            10\n",
      "Paris, France                            9\n",
      "Cornwall / Akron, OH                     9\n",
      "Wiltshire, England Niagara Falls, NY     8\n",
      "Winnipeg, MB                             8\n",
      "Philadelphia, PA                         8\n",
      "Belfast                                  7\n",
      "Sweden Winnipeg, MN                      7\n",
      "Name: home.dest, dtype: int64\n"
     ]
    }
   ],
   "source": [
    "# titanic passenger destination\n",
    "home_dest_df = titanic['home.dest'].value_counts()\n",
    "home_dest_df_top_10 = home_dest_df.head(10)\n",
    "print(home_dest_df_top_10)"
   ]
  },
  {
   "cell_type": "code",
   "execution_count": 384,
   "id": "f0a5fbae",
   "metadata": {},
   "outputs": [
    {
     "data": {
      "text/html": [
       "<div>\n",
       "<style scoped>\n",
       "    .dataframe tbody tr th:only-of-type {\n",
       "        vertical-align: middle;\n",
       "    }\n",
       "\n",
       "    .dataframe tbody tr th {\n",
       "        vertical-align: top;\n",
       "    }\n",
       "\n",
       "    .dataframe thead tr th {\n",
       "        text-align: left;\n",
       "    }\n",
       "\n",
       "    .dataframe thead tr:last-of-type th {\n",
       "        text-align: right;\n",
       "    }\n",
       "</style>\n",
       "<table border=\"1\" class=\"dataframe\">\n",
       "  <thead>\n",
       "    <tr>\n",
       "      <th></th>\n",
       "      <th colspan=\"3\" halign=\"left\">fare</th>\n",
       "    </tr>\n",
       "    <tr>\n",
       "      <th></th>\n",
       "      <th>mean</th>\n",
       "      <th>min</th>\n",
       "      <th>max</th>\n",
       "    </tr>\n",
       "    <tr>\n",
       "      <th>embarked_port</th>\n",
       "      <th></th>\n",
       "      <th></th>\n",
       "      <th></th>\n",
       "    </tr>\n",
       "  </thead>\n",
       "  <tbody>\n",
       "    <tr>\n",
       "      <th>Cherbourg</th>\n",
       "      <td>62.336267</td>\n",
       "      <td>4.0125</td>\n",
       "      <td>512.3292</td>\n",
       "    </tr>\n",
       "    <tr>\n",
       "      <th>Queenstown</th>\n",
       "      <td>12.409012</td>\n",
       "      <td>6.7500</td>\n",
       "      <td>90.0000</td>\n",
       "    </tr>\n",
       "    <tr>\n",
       "      <th>Southampton</th>\n",
       "      <td>27.418824</td>\n",
       "      <td>0.0000</td>\n",
       "      <td>263.0000</td>\n",
       "    </tr>\n",
       "  </tbody>\n",
       "</table>\n",
       "</div>"
      ],
      "text/plain": [
       "                    fare                  \n",
       "                    mean     min       max\n",
       "embarked_port                             \n",
       "Cherbourg      62.336267  4.0125  512.3292\n",
       "Queenstown     12.409012  6.7500   90.0000\n",
       "Southampton    27.418824  0.0000  263.0000"
      ]
     },
     "execution_count": 384,
     "metadata": {},
     "output_type": "execute_result"
    }
   ],
   "source": [
    "# embarkation port & fare\n",
    "embarked_port_fare_df = titanic.groupby(\n",
    "                          ['embarked_port']).agg(\n",
    "                              {'fare': ['mean', 'min', 'max']})\n",
    "embarked_port_fare_df"
   ]
  },
  {
   "cell_type": "code",
   "execution_count": 385,
   "id": "0165cc9e",
   "metadata": {},
   "outputs": [
    {
     "data": {
      "text/html": [
       "<div>\n",
       "<style scoped>\n",
       "    .dataframe tbody tr th:only-of-type {\n",
       "        vertical-align: middle;\n",
       "    }\n",
       "\n",
       "    .dataframe tbody tr th {\n",
       "        vertical-align: top;\n",
       "    }\n",
       "\n",
       "    .dataframe thead tr th {\n",
       "        text-align: left;\n",
       "    }\n",
       "\n",
       "    .dataframe thead tr:last-of-type th {\n",
       "        text-align: right;\n",
       "    }\n",
       "</style>\n",
       "<table border=\"1\" class=\"dataframe\">\n",
       "  <thead>\n",
       "    <tr>\n",
       "      <th></th>\n",
       "      <th></th>\n",
       "      <th colspan=\"3\" halign=\"left\">fare</th>\n",
       "    </tr>\n",
       "    <tr>\n",
       "      <th></th>\n",
       "      <th></th>\n",
       "      <th>mean</th>\n",
       "      <th>min</th>\n",
       "      <th>max</th>\n",
       "    </tr>\n",
       "    <tr>\n",
       "      <th>embarked_port</th>\n",
       "      <th>pclass</th>\n",
       "      <th></th>\n",
       "      <th></th>\n",
       "      <th></th>\n",
       "    </tr>\n",
       "  </thead>\n",
       "  <tbody>\n",
       "    <tr>\n",
       "      <th rowspan=\"3\" valign=\"top\">Cherbourg</th>\n",
       "      <th>1</th>\n",
       "      <td>106.845330</td>\n",
       "      <td>25.7417</td>\n",
       "      <td>512.3292</td>\n",
       "    </tr>\n",
       "    <tr>\n",
       "      <th>2</th>\n",
       "      <td>23.300593</td>\n",
       "      <td>12.0000</td>\n",
       "      <td>41.5792</td>\n",
       "    </tr>\n",
       "    <tr>\n",
       "      <th>3</th>\n",
       "      <td>11.021624</td>\n",
       "      <td>4.0125</td>\n",
       "      <td>22.3583</td>\n",
       "    </tr>\n",
       "    <tr>\n",
       "      <th rowspan=\"3\" valign=\"top\">Queenstown</th>\n",
       "      <th>1</th>\n",
       "      <td>90.000000</td>\n",
       "      <td>90.0000</td>\n",
       "      <td>90.0000</td>\n",
       "    </tr>\n",
       "    <tr>\n",
       "      <th>2</th>\n",
       "      <td>11.735114</td>\n",
       "      <td>9.6875</td>\n",
       "      <td>12.3500</td>\n",
       "    </tr>\n",
       "    <tr>\n",
       "      <th>3</th>\n",
       "      <td>10.390820</td>\n",
       "      <td>6.7500</td>\n",
       "      <td>29.1250</td>\n",
       "    </tr>\n",
       "    <tr>\n",
       "      <th rowspan=\"3\" valign=\"top\">Southampton</th>\n",
       "      <th>1</th>\n",
       "      <td>72.148094</td>\n",
       "      <td>0.0000</td>\n",
       "      <td>263.0000</td>\n",
       "    </tr>\n",
       "    <tr>\n",
       "      <th>2</th>\n",
       "      <td>21.206921</td>\n",
       "      <td>0.0000</td>\n",
       "      <td>73.5000</td>\n",
       "    </tr>\n",
       "    <tr>\n",
       "      <th>3</th>\n",
       "      <td>14.435422</td>\n",
       "      <td>0.0000</td>\n",
       "      <td>69.5500</td>\n",
       "    </tr>\n",
       "  </tbody>\n",
       "</table>\n",
       "</div>"
      ],
      "text/plain": [
       "                            fare                   \n",
       "                            mean      min       max\n",
       "embarked_port pclass                               \n",
       "Cherbourg     1       106.845330  25.7417  512.3292\n",
       "              2        23.300593  12.0000   41.5792\n",
       "              3        11.021624   4.0125   22.3583\n",
       "Queenstown    1        90.000000  90.0000   90.0000\n",
       "              2        11.735114   9.6875   12.3500\n",
       "              3        10.390820   6.7500   29.1250\n",
       "Southampton   1        72.148094   0.0000  263.0000\n",
       "              2        21.206921   0.0000   73.5000\n",
       "              3        14.435422   0.0000   69.5500"
      ]
     },
     "execution_count": 385,
     "metadata": {},
     "output_type": "execute_result"
    }
   ],
   "source": [
    "# embarkation port, passenger class & fare\n",
    "embarked_port_class_fare_df = titanic.groupby(\n",
    "                              ['embarked_port','pclass']).agg(\n",
    "                                  {'fare': ['mean', 'min', 'max']})\n",
    "embarked_port_class_fare_df"
   ]
  },
  {
   "cell_type": "code",
   "execution_count": 386,
   "id": "8cbe1f86",
   "metadata": {},
   "outputs": [
    {
     "data": {
      "text/html": [
       "<div>\n",
       "<style scoped>\n",
       "    .dataframe tbody tr th:only-of-type {\n",
       "        vertical-align: middle;\n",
       "    }\n",
       "\n",
       "    .dataframe tbody tr th {\n",
       "        vertical-align: top;\n",
       "    }\n",
       "\n",
       "    .dataframe thead th {\n",
       "        text-align: right;\n",
       "    }\n",
       "</style>\n",
       "<table border=\"1\" class=\"dataframe\">\n",
       "  <thead>\n",
       "    <tr style=\"text-align: right;\">\n",
       "      <th></th>\n",
       "      <th>pclass</th>\n",
       "      <th>embarked</th>\n",
       "      <th>fare</th>\n",
       "    </tr>\n",
       "  </thead>\n",
       "  <tbody>\n",
       "  </tbody>\n",
       "</table>\n",
       "</div>"
      ],
      "text/plain": [
       "Empty DataFrame\n",
       "Columns: [pclass, embarked, fare]\n",
       "Index: []"
      ]
     },
     "execution_count": 386,
     "metadata": {},
     "output_type": "execute_result"
    }
   ],
   "source": [
    "# passenger who embarked on Cherbourg with 0 fare\n",
    "titanic[['pclass','embarked','fare']]\\\n",
    "    [(titanic['embarked']=='C') & (titanic['fare']==0)]"
   ]
  },
  {
   "cell_type": "code",
   "execution_count": 387,
   "id": "f56842d4",
   "metadata": {},
   "outputs": [
    {
     "data": {
      "text/html": [
       "<div>\n",
       "<style scoped>\n",
       "    .dataframe tbody tr th:only-of-type {\n",
       "        vertical-align: middle;\n",
       "    }\n",
       "\n",
       "    .dataframe tbody tr th {\n",
       "        vertical-align: top;\n",
       "    }\n",
       "\n",
       "    .dataframe thead th {\n",
       "        text-align: right;\n",
       "    }\n",
       "</style>\n",
       "<table border=\"1\" class=\"dataframe\">\n",
       "  <thead>\n",
       "    <tr style=\"text-align: right;\">\n",
       "      <th></th>\n",
       "      <th>pclass</th>\n",
       "      <th>embarked</th>\n",
       "      <th>fare</th>\n",
       "    </tr>\n",
       "  </thead>\n",
       "  <tbody>\n",
       "  </tbody>\n",
       "</table>\n",
       "</div>"
      ],
      "text/plain": [
       "Empty DataFrame\n",
       "Columns: [pclass, embarked, fare]\n",
       "Index: []"
      ]
     },
     "execution_count": 387,
     "metadata": {},
     "output_type": "execute_result"
    }
   ],
   "source": [
    "# passenger who embarked on Queenstown with 0 fare\n",
    "titanic[['pclass','embarked','fare']]\\\n",
    "    [(titanic['embarked']=='Q') & (titanic['fare']==0)]"
   ]
  },
  {
   "cell_type": "code",
   "execution_count": 388,
   "id": "657786b1",
   "metadata": {},
   "outputs": [
    {
     "data": {
      "text/html": [
       "<div>\n",
       "<style scoped>\n",
       "    .dataframe tbody tr th:only-of-type {\n",
       "        vertical-align: middle;\n",
       "    }\n",
       "\n",
       "    .dataframe tbody tr th {\n",
       "        vertical-align: top;\n",
       "    }\n",
       "\n",
       "    .dataframe thead th {\n",
       "        text-align: right;\n",
       "    }\n",
       "</style>\n",
       "<table border=\"1\" class=\"dataframe\">\n",
       "  <thead>\n",
       "    <tr style=\"text-align: right;\">\n",
       "      <th></th>\n",
       "      <th>pclass</th>\n",
       "      <th>embarked</th>\n",
       "      <th>fare</th>\n",
       "    </tr>\n",
       "  </thead>\n",
       "  <tbody>\n",
       "    <tr>\n",
       "      <th>7</th>\n",
       "      <td>1</td>\n",
       "      <td>S</td>\n",
       "      <td>0.0</td>\n",
       "    </tr>\n",
       "    <tr>\n",
       "      <th>70</th>\n",
       "      <td>1</td>\n",
       "      <td>S</td>\n",
       "      <td>0.0</td>\n",
       "    </tr>\n",
       "    <tr>\n",
       "      <th>125</th>\n",
       "      <td>1</td>\n",
       "      <td>S</td>\n",
       "      <td>0.0</td>\n",
       "    </tr>\n",
       "    <tr>\n",
       "      <th>150</th>\n",
       "      <td>1</td>\n",
       "      <td>S</td>\n",
       "      <td>0.0</td>\n",
       "    </tr>\n",
       "    <tr>\n",
       "      <th>170</th>\n",
       "      <td>1</td>\n",
       "      <td>S</td>\n",
       "      <td>0.0</td>\n",
       "    </tr>\n",
       "    <tr>\n",
       "      <th>223</th>\n",
       "      <td>1</td>\n",
       "      <td>S</td>\n",
       "      <td>0.0</td>\n",
       "    </tr>\n",
       "    <tr>\n",
       "      <th>234</th>\n",
       "      <td>1</td>\n",
       "      <td>S</td>\n",
       "      <td>0.0</td>\n",
       "    </tr>\n",
       "    <tr>\n",
       "      <th>363</th>\n",
       "      <td>2</td>\n",
       "      <td>S</td>\n",
       "      <td>0.0</td>\n",
       "    </tr>\n",
       "    <tr>\n",
       "      <th>384</th>\n",
       "      <td>2</td>\n",
       "      <td>S</td>\n",
       "      <td>0.0</td>\n",
       "    </tr>\n",
       "    <tr>\n",
       "      <th>410</th>\n",
       "      <td>2</td>\n",
       "      <td>S</td>\n",
       "      <td>0.0</td>\n",
       "    </tr>\n",
       "    <tr>\n",
       "      <th>473</th>\n",
       "      <td>2</td>\n",
       "      <td>S</td>\n",
       "      <td>0.0</td>\n",
       "    </tr>\n",
       "    <tr>\n",
       "      <th>528</th>\n",
       "      <td>2</td>\n",
       "      <td>S</td>\n",
       "      <td>0.0</td>\n",
       "    </tr>\n",
       "    <tr>\n",
       "      <th>581</th>\n",
       "      <td>2</td>\n",
       "      <td>S</td>\n",
       "      <td>0.0</td>\n",
       "    </tr>\n",
       "    <tr>\n",
       "      <th>896</th>\n",
       "      <td>3</td>\n",
       "      <td>S</td>\n",
       "      <td>0.0</td>\n",
       "    </tr>\n",
       "    <tr>\n",
       "      <th>898</th>\n",
       "      <td>3</td>\n",
       "      <td>S</td>\n",
       "      <td>0.0</td>\n",
       "    </tr>\n",
       "    <tr>\n",
       "      <th>963</th>\n",
       "      <td>3</td>\n",
       "      <td>S</td>\n",
       "      <td>0.0</td>\n",
       "    </tr>\n",
       "    <tr>\n",
       "      <th>1254</th>\n",
       "      <td>3</td>\n",
       "      <td>S</td>\n",
       "      <td>0.0</td>\n",
       "    </tr>\n",
       "  </tbody>\n",
       "</table>\n",
       "</div>"
      ],
      "text/plain": [
       "      pclass embarked  fare\n",
       "7          1        S   0.0\n",
       "70         1        S   0.0\n",
       "125        1        S   0.0\n",
       "150        1        S   0.0\n",
       "170        1        S   0.0\n",
       "223        1        S   0.0\n",
       "234        1        S   0.0\n",
       "363        2        S   0.0\n",
       "384        2        S   0.0\n",
       "410        2        S   0.0\n",
       "473        2        S   0.0\n",
       "528        2        S   0.0\n",
       "581        2        S   0.0\n",
       "896        3        S   0.0\n",
       "898        3        S   0.0\n",
       "963        3        S   0.0\n",
       "1254       3        S   0.0"
      ]
     },
     "execution_count": 388,
     "metadata": {},
     "output_type": "execute_result"
    }
   ],
   "source": [
    "# passenger who embarked on Southampton with 0 fare\n",
    "titanic[['pclass','embarked','fare']]\\\n",
    "    [(titanic['embarked']=='S') & (titanic['fare']==0)]"
   ]
  },
  {
   "cell_type": "code",
   "execution_count": 389,
   "id": "7a5e4e0e",
   "metadata": {},
   "outputs": [
    {
     "data": {
      "image/png": "[encoded data removed]",
      "text/plain": [
       "<Figure size 360x360 with 1 Axes>"
      ]
     },
     "metadata": {},
     "output_type": "display_data"
    }
   ],
   "source": [
    "# Compare sex and fare\n",
    "sns.catplot(x='sex', y='fare', data=titanic,\n",
    "            kind='boxen', palette = 'pastel').set(\n",
    "                title=\"Sex and Fare Comparison\")\n",
    "plt.xlabel('Sex')\n",
    "plt.ylabel('Fare')\n",
    "pass"
   ]
  },
  {
   "cell_type": "code",
   "execution_count": 390,
   "id": "93cd2780",
   "metadata": {},
   "outputs": [
    {
     "data": {
      "image/png": "[encoded data removed]",
      "text/plain": [
       "<Figure size 360x360 with 1 Axes>"
      ]
     },
     "metadata": {},
     "output_type": "display_data"
    }
   ],
   "source": [
    "# Passenger class distribution, by sex.\n",
    "\n",
    "# Set style parameters.\n",
    "sns.set_style(\"ticks\")\n",
    "plt.figure(figsize=(5,5))\n",
    "\n",
    "# Create plot.\n",
    "ax = sns.countplot(x='sex',hue='pclass',data=titanic, palette = 'pastel')\n",
    "\n",
    "# Set labels and titles.\n",
    "ax.set(title = 'Passenger Class Distribution by Sex')\n",
    "plt.xlabel('Sex')\n",
    "plt.ylabel('Number of Passengers')\n",
    "ax.bar_label(ax.containers[0])\n",
    "ax.bar_label(ax.containers[1])\n",
    "ax.bar_label(ax.containers[2])\n",
    "pass"
   ]
  },
  {
   "cell_type": "markdown",
   "id": "767cc796",
   "metadata": {},
   "source": [
    "## What were the demographics most likely to survive the sinking of the Titanic?\n",
    "#### by gender\n",
    "#### by passenger class\n",
    "#### by party size\n",
    "#### survial rate"
   ]
  },
  {
   "cell_type": "code",
   "execution_count": 391,
   "id": "92258e47",
   "metadata": {},
   "outputs": [
    {
     "data": {
      "image/png": "[encoded data removed]",
      "text/plain": [
       "<Figure size 504x288 with 1 Axes>"
      ]
     },
     "metadata": {},
     "output_type": "display_data"
    }
   ],
   "source": [
    "# Survival outcome for all passengers.\n",
    "survival_dist = sns.countplot(data=titanic, x='survived')\n",
    "survival_dist.set(title=\"Passenger Outcomes\", xlabel=\"Outcome\",\n",
    "                  ylabel=\"Num. of Passengers\",\n",
    "                  xticklabels=['Died','Survived'])\n",
    "survival_dist.text(x = 0, y=730, s=\"809\", ha='center', fontsize=12)\n",
    "survival_dist.text(x = 1, y=430, s=\"500\", ha='center', fontsize=12)\n",
    "pass"
   ]
  },
  {
   "cell_type": "code",
   "execution_count": 392,
   "id": "3c265dac",
   "metadata": {},
   "outputs": [
    {
     "data": {
      "image/png": "[encoded data removed]",
      "text/plain": [
       "<Figure size 504x288 with 1 Axes>"
      ]
     },
     "metadata": {},
     "output_type": "display_data"
    }
   ],
   "source": [
    "# Passenger outcome by gender.\n",
    "gsurvival_dist = sns.countplot(data=titanic, x='survived', hue='sex')\n",
    "gsurvival_dist.set(title=\"Passenger Outcomes\", xlabel=\"Outcome\",\n",
    "                   ylabel=\"Num. of Passengers\",\n",
    "                   xticklabels=['Died','Survived'])\n",
    "gsurvival_dist.text(x = -0.2, y=65, s=\"127\", ha='center', fontsize=12)\n",
    "gsurvival_dist.text(x = 0.2, y=610, s=\"682\", ha='center', fontsize=12)\n",
    "gsurvival_dist.text(x = 0.8, y=280, s=\"339\", ha='center', fontsize=12)\n",
    "gsurvival_dist.text(x = 1.2, y=100, s=\"161\", ha='center', fontsize=12)\n",
    "pass"
   ]
  },
  {
   "cell_type": "code",
   "execution_count": 393,
   "id": "1fa3ed41",
   "metadata": {},
   "outputs": [
    {
     "data": {
      "image/png": "[encoded data removed]",
      "text/plain": [
       "<Figure size 504x360 with 1 Axes>"
      ]
     },
     "metadata": {},
     "output_type": "display_data"
    }
   ],
   "source": [
    "# Find proportion of passenger outcome by sex.\n",
    "# Compute frequency table of sex and survived status,\n",
    "# Divided by the sum of each row.\n",
    "proportion_df = pd.crosstab(index=titanic['sex'],\n",
    "                    columns=titanic['survived_status'],\n",
    "                    normalize='index')\n",
    "proportion_df.plot(kind='bar',\n",
    "                    stacked=True, figsize=(7,5))\n",
    "plt.ylabel(\"Proportion\")\n",
    "plt.title('Passenger Outcome Proportion by Sex')\n",
    "pass"
   ]
  },
  {
   "cell_type": "code",
   "execution_count": 394,
   "id": "196e4561",
   "metadata": {},
   "outputs": [
    {
     "data": {
      "image/png": "[encoded data removed]",
      "text/plain": [
       "<Figure size 864x288 with 3 Axes>"
      ]
     },
     "metadata": {},
     "output_type": "display_data"
    }
   ],
   "source": [
    "# Build three plots to demonstrate who survived by sex.\n",
    "fig, ax = plt.subplots(1,3, figsize=(12,4))\n",
    "plt.subplots_adjust(wspace=0.3)\n",
    "\n",
    "# Overall Survival Plot\n",
    "survival_dist = sns.countplot(data=titanic, x='survived', ax=ax[0])\n",
    "survival_dist.set(title=\"Overall Passenger Outcomes\", xlabel=\"Outcome\",\n",
    "                  ylabel=\"Num. of Passengers\", xticklabels=['Died','Survived'])\n",
    "survival_dist.text(x = 0, y=730, s=\"809\", ha='center', fontsize=12)\n",
    "survival_dist.text(x = 1, y=430, s=\"500\", ha='center', fontsize=12)\n",
    "\n",
    "# Passenger Outcome by Gender\n",
    "gsurvival_dist = sns.countplot(data=titanic, x='survived', hue='sex', ax=ax[1])\n",
    "gsurvival_dist.set(title=\"Passenger Outcomes by Sex\", xlabel=\"Outcome\",\n",
    "                   ylabel=\"Num. of Passengers\",\n",
    "                   xticklabels=['Died','Survived'])\n",
    "gsurvival_dist.text(x = -0.2, y=65, s=\"127\", ha='center', fontsize=12)\n",
    "gsurvival_dist.text(x = 0.2, y=610, s=\"682\", ha='center', fontsize=12)\n",
    "gsurvival_dist.text(x = 0.8, y=280, s=\"339\", ha='center', fontsize=12)\n",
    "gsurvival_dist.text(x = 1.2, y=100, s=\"161\", ha='center', fontsize=12)\n",
    "\n",
    "# Proportional Passenger Outcome by Sex\n",
    "proportion_df = pd.crosstab(index=titanic['sex'],\n",
    "                    columns=titanic['survived_status'],\n",
    "                    normalize='index')\n",
    "proportion_df.plot(kind='bar',\n",
    "                    stacked=True, ax=ax[2])\n",
    "ax[2].set_xticklabels(proportion_df.index, rotation=0)\n",
    "plt.ylabel(\"Proportion\")\n",
    "plt.title('Passenger Outcome Proportion by Sex')\n",
    "\n",
    "pass"
   ]
  },
  {
   "cell_type": "code",
   "execution_count": 409,
   "id": "816eebd1",
   "metadata": {},
   "outputs": [
    {
     "data": {
      "image/png": "[encoded data removed]",
      "text/plain": [
       "<Figure size 668.3x288 with 1 Axes>"
      ]
     },
     "metadata": {},
     "output_type": "display_data"
    }
   ],
   "source": [
    "# Passenger outcome by age\n",
    "age_survive = sns.displot(data=titanic, x='age', hue='survived_status',\n",
    "                          multiple='stack', height=4, aspect=2)\n",
    "age_survive.set(title=\"Survival by Age\", xlabel='Age (years)',\n",
    "                ylabel=\"Num. of Passengers\")\n",
    "age_survive._legend.remove()\n",
    "plt.legend(['Survived','Died'], title=\"Outcome\")\n",
    "pass"
   ]
  },
  {
   "cell_type": "code",
   "execution_count": 396,
   "id": "40cc3ae1",
   "metadata": {},
   "outputs": [
    {
     "data": {
      "text/plain": [
       "3    709\n",
       "1    323\n",
       "2    277\n",
       "Name: pclass, dtype: int64"
      ]
     },
     "execution_count": 396,
     "metadata": {},
     "output_type": "execute_result"
    }
   ],
   "source": [
    "# num of passenger per class\n",
    "titanic['pclass'].value_counts()"
   ]
  },
  {
   "cell_type": "code",
   "execution_count": 397,
   "id": "3baa908c",
   "metadata": {},
   "outputs": [
    {
     "data": {
      "text/plain": [
       "pclass  survived_status\n",
       "1       Died               123\n",
       "        Survived           200\n",
       "2       Died               158\n",
       "        Survived           119\n",
       "3       Died               528\n",
       "        Survived           181\n",
       "Name: survived, dtype: int64"
      ]
     },
     "execution_count": 397,
     "metadata": {},
     "output_type": "execute_result"
    }
   ],
   "source": [
    "# num of survived/died per class\n",
    "titanic.groupby(['pclass', 'survived_status'])['survived'].count()"
   ]
  },
  {
   "cell_type": "code",
   "execution_count": 398,
   "id": "74a39484",
   "metadata": {},
   "outputs": [
    {
     "data": {
      "image/png": "[encoded data removed]",
      "text/plain": [
       "<Figure size 360x360 with 1 Axes>"
      ]
     },
     "metadata": {},
     "output_type": "display_data"
    }
   ],
   "source": [
    "# Survival rate per class\n",
    "ax=sns.catplot(x='pclass', y='survived', data=titanic, kind='point')\n",
    "ax.set(title = 'Survival Rate Per Class')\n",
    "plt.xlabel('Passenger Class')\n",
    "plt.ylabel('Survival Rate')\n",
    "pass"
   ]
  },
  {
   "cell_type": "code",
   "execution_count": 399,
   "id": "67cb9340",
   "metadata": {},
   "outputs": [
    {
     "data": {
      "image/png": "[encoded data removed]",
      "text/plain": [
       "<Figure size 360x288 with 1 Axes>"
      ]
     },
     "metadata": {},
     "output_type": "display_data"
    }
   ],
   "source": [
    "# Number of Survived/Died Per Class\n",
    "sns.set(rc={'figure.figsize':(5,4)})\n",
    "sns.set_theme(style='ticks', palette='pastel')\n",
    "sns.set_style(style='white')\n",
    "ax = sns.countplot(x='survived_status',hue='pclass',data=titanic, palette='pastel')\n",
    "ax.set(title='Number of Survived/Died Per Class')\n",
    "plt.xlabel('Outcome')\n",
    "plt.ylabel('Number of Passenger')\n",
    "\n",
    "ax.text(x = -0.27, y=160, s=\"200\", ha='center', fontsize=12)\n",
    "ax.text(x = 0, y=80, s=\"119\", ha='center', fontsize=12)\n",
    "ax.text(x = 0.27, y=140, s=\"181\", ha='center', fontsize=12)\n",
    "ax.text(x = 0.73, y=80, s=\"123\", ha='center', fontsize=12)\n",
    "ax.text(x = 1, y=120, s=\"158\", ha='center', fontsize=12)\n",
    "ax.text(x = 1.27, y=480, s=\"528\", ha='center', fontsize=12)\n",
    "pass"
   ]
  },
  {
   "cell_type": "code",
   "execution_count": 400,
   "id": "2595f341",
   "metadata": {},
   "outputs": [
    {
     "data": {
      "text/html": [
       "<div>\n",
       "<style scoped>\n",
       "    .dataframe tbody tr th:only-of-type {\n",
       "        vertical-align: middle;\n",
       "    }\n",
       "\n",
       "    .dataframe tbody tr th {\n",
       "        vertical-align: top;\n",
       "    }\n",
       "\n",
       "    .dataframe thead th {\n",
       "        text-align: right;\n",
       "    }\n",
       "</style>\n",
       "<table border=\"1\" class=\"dataframe\">\n",
       "  <thead>\n",
       "    <tr style=\"text-align: right;\">\n",
       "      <th></th>\n",
       "      <th>pclass</th>\n",
       "      <th>survived</th>\n",
       "      <th>name</th>\n",
       "      <th>sex</th>\n",
       "      <th>age</th>\n",
       "      <th>sibsp</th>\n",
       "      <th>parch</th>\n",
       "      <th>ticket</th>\n",
       "      <th>fare</th>\n",
       "      <th>cabin</th>\n",
       "      <th>embarked</th>\n",
       "      <th>boat</th>\n",
       "      <th>body</th>\n",
       "      <th>home.dest</th>\n",
       "      <th>gender</th>\n",
       "      <th>total_relatives</th>\n",
       "      <th>embarked_port</th>\n",
       "      <th>survived_status</th>\n",
       "    </tr>\n",
       "  </thead>\n",
       "  <tbody>\n",
       "    <tr>\n",
       "      <th>763</th>\n",
       "      <td>3</td>\n",
       "      <td>1</td>\n",
       "      <td>Dean, Miss. Elizabeth Gladys \"Millvina\"</td>\n",
       "      <td>female</td>\n",
       "      <td>0.17</td>\n",
       "      <td>1</td>\n",
       "      <td>2</td>\n",
       "      <td>C.A. 2315</td>\n",
       "      <td>20.575</td>\n",
       "      <td>NaN</td>\n",
       "      <td>S</td>\n",
       "      <td>10</td>\n",
       "      <td>NaN</td>\n",
       "      <td>Devon, England Wichita, KS</td>\n",
       "      <td>1</td>\n",
       "      <td>3</td>\n",
       "      <td>Southampton</td>\n",
       "      <td>Survived</td>\n",
       "    </tr>\n",
       "  </tbody>\n",
       "</table>\n",
       "</div>"
      ],
      "text/plain": [
       "     pclass  survived                                     name     sex   age  \\\n",
       "763       3         1  Dean, Miss. Elizabeth Gladys \"Millvina\"  female  0.17   \n",
       "\n",
       "     sibsp  parch     ticket    fare cabin embarked boat  body  \\\n",
       "763      1      2  C.A. 2315  20.575   NaN        S   10   NaN   \n",
       "\n",
       "                      home.dest  gender  total_relatives embarked_port  \\\n",
       "763  Devon, England Wichita, KS       1                3   Southampton   \n",
       "\n",
       "    survived_status  \n",
       "763        Survived  "
      ]
     },
     "execution_count": 400,
     "metadata": {},
     "output_type": "execute_result"
    }
   ],
   "source": [
    "# youngest survivor\n",
    "survived_df = titanic[titanic['survived_status']=='Survived']\n",
    "survived_df = survived_df[survived_df['age']==survived_df['age'].min()]\n",
    "survived_df"
   ]
  },
  {
   "cell_type": "code",
   "execution_count": 401,
   "id": "79745202",
   "metadata": {},
   "outputs": [
    {
     "data": {
      "text/html": [
       "<div>\n",
       "<style scoped>\n",
       "    .dataframe tbody tr th:only-of-type {\n",
       "        vertical-align: middle;\n",
       "    }\n",
       "\n",
       "    .dataframe tbody tr th {\n",
       "        vertical-align: top;\n",
       "    }\n",
       "\n",
       "    .dataframe thead th {\n",
       "        text-align: right;\n",
       "    }\n",
       "</style>\n",
       "<table border=\"1\" class=\"dataframe\">\n",
       "  <thead>\n",
       "    <tr style=\"text-align: right;\">\n",
       "      <th></th>\n",
       "      <th>pclass</th>\n",
       "      <th>survived</th>\n",
       "      <th>name</th>\n",
       "      <th>sex</th>\n",
       "      <th>age</th>\n",
       "      <th>sibsp</th>\n",
       "      <th>parch</th>\n",
       "      <th>ticket</th>\n",
       "      <th>fare</th>\n",
       "      <th>cabin</th>\n",
       "      <th>embarked</th>\n",
       "      <th>boat</th>\n",
       "      <th>body</th>\n",
       "      <th>home.dest</th>\n",
       "      <th>gender</th>\n",
       "      <th>total_relatives</th>\n",
       "      <th>embarked_port</th>\n",
       "      <th>survived_status</th>\n",
       "    </tr>\n",
       "  </thead>\n",
       "  <tbody>\n",
       "    <tr>\n",
       "      <th>14</th>\n",
       "      <td>1</td>\n",
       "      <td>1</td>\n",
       "      <td>Barkworth, Mr. Algernon Henry Wilson</td>\n",
       "      <td>male</td>\n",
       "      <td>80.0</td>\n",
       "      <td>0</td>\n",
       "      <td>0</td>\n",
       "      <td>27042</td>\n",
       "      <td>30.0</td>\n",
       "      <td>A23</td>\n",
       "      <td>S</td>\n",
       "      <td>B</td>\n",
       "      <td>NaN</td>\n",
       "      <td>Hessle, Yorks</td>\n",
       "      <td>0</td>\n",
       "      <td>0</td>\n",
       "      <td>Southampton</td>\n",
       "      <td>Survived</td>\n",
       "    </tr>\n",
       "  </tbody>\n",
       "</table>\n",
       "</div>"
      ],
      "text/plain": [
       "    pclass  survived                                  name   sex   age  sibsp  \\\n",
       "14       1         1  Barkworth, Mr. Algernon Henry Wilson  male  80.0      0   \n",
       "\n",
       "    parch ticket  fare cabin embarked boat  body      home.dest  gender  \\\n",
       "14      0  27042  30.0   A23        S    B   NaN  Hessle, Yorks       0   \n",
       "\n",
       "    total_relatives embarked_port survived_status  \n",
       "14                0   Southampton        Survived  "
      ]
     },
     "execution_count": 401,
     "metadata": {},
     "output_type": "execute_result"
    }
   ],
   "source": [
    "# find oldest survivor\n",
    "survived_df = titanic[titanic['survived_status']=='Survived']\n",
    "survived_df = survived_df[survived_df['age']==survived_df['age'].max()]\n",
    "survived_df"
   ]
  },
  {
   "cell_type": "code",
   "execution_count": 402,
   "id": "29b28355",
   "metadata": {},
   "outputs": [
    {
     "data": {
      "text/html": [
       "<div>\n",
       "<style scoped>\n",
       "    .dataframe tbody tr th:only-of-type {\n",
       "        vertical-align: middle;\n",
       "    }\n",
       "\n",
       "    .dataframe tbody tr th {\n",
       "        vertical-align: top;\n",
       "    }\n",
       "\n",
       "    .dataframe thead th {\n",
       "        text-align: right;\n",
       "    }\n",
       "</style>\n",
       "<table border=\"1\" class=\"dataframe\">\n",
       "  <thead>\n",
       "    <tr style=\"text-align: right;\">\n",
       "      <th></th>\n",
       "      <th>pclass</th>\n",
       "      <th>survived</th>\n",
       "      <th>name</th>\n",
       "      <th>sex</th>\n",
       "      <th>age</th>\n",
       "      <th>sibsp</th>\n",
       "      <th>parch</th>\n",
       "      <th>ticket</th>\n",
       "      <th>fare</th>\n",
       "      <th>cabin</th>\n",
       "      <th>embarked</th>\n",
       "      <th>boat</th>\n",
       "      <th>body</th>\n",
       "      <th>home.dest</th>\n",
       "      <th>gender</th>\n",
       "      <th>total_relatives</th>\n",
       "      <th>embarked_port</th>\n",
       "      <th>survived_status</th>\n",
       "    </tr>\n",
       "  </thead>\n",
       "  <tbody>\n",
       "    <tr>\n",
       "      <th>747</th>\n",
       "      <td>3</td>\n",
       "      <td>0</td>\n",
       "      <td>Danbom, Master. Gilbert Sigvard Emanuel</td>\n",
       "      <td>male</td>\n",
       "      <td>0.33</td>\n",
       "      <td>0</td>\n",
       "      <td>2</td>\n",
       "      <td>347080</td>\n",
       "      <td>14.4</td>\n",
       "      <td>NaN</td>\n",
       "      <td>S</td>\n",
       "      <td>NaN</td>\n",
       "      <td>NaN</td>\n",
       "      <td>Stanton, IA</td>\n",
       "      <td>0</td>\n",
       "      <td>2</td>\n",
       "      <td>Southampton</td>\n",
       "      <td>Died</td>\n",
       "    </tr>\n",
       "  </tbody>\n",
       "</table>\n",
       "</div>"
      ],
      "text/plain": [
       "     pclass  survived                                     name   sex   age  \\\n",
       "747       3         0  Danbom, Master. Gilbert Sigvard Emanuel  male  0.33   \n",
       "\n",
       "     sibsp  parch  ticket  fare cabin embarked boat  body    home.dest  \\\n",
       "747      0      2  347080  14.4   NaN        S  NaN   NaN  Stanton, IA   \n",
       "\n",
       "     gender  total_relatives embarked_port survived_status  \n",
       "747       0                2   Southampton            Died  "
      ]
     },
     "execution_count": 402,
     "metadata": {},
     "output_type": "execute_result"
    }
   ],
   "source": [
    "# youngest dead\n",
    "died_df = titanic[titanic['survived_status']=='Died']\n",
    "died_df = died_df[died_df['age']==died_df['age'].min()]\n",
    "died_df"
   ]
  },
  {
   "cell_type": "code",
   "execution_count": 406,
   "id": "9aca933e",
   "metadata": {},
   "outputs": [
    {
     "data": {
      "text/html": [
       "<div>\n",
       "<style scoped>\n",
       "    .dataframe tbody tr th:only-of-type {\n",
       "        vertical-align: middle;\n",
       "    }\n",
       "\n",
       "    .dataframe tbody tr th {\n",
       "        vertical-align: top;\n",
       "    }\n",
       "\n",
       "    .dataframe thead th {\n",
       "        text-align: right;\n",
       "    }\n",
       "</style>\n",
       "<table border=\"1\" class=\"dataframe\">\n",
       "  <thead>\n",
       "    <tr style=\"text-align: right;\">\n",
       "      <th></th>\n",
       "      <th>pclass</th>\n",
       "      <th>survived</th>\n",
       "      <th>name</th>\n",
       "      <th>sex</th>\n",
       "      <th>age</th>\n",
       "      <th>sibsp</th>\n",
       "      <th>parch</th>\n",
       "      <th>ticket</th>\n",
       "      <th>fare</th>\n",
       "      <th>cabin</th>\n",
       "      <th>embarked</th>\n",
       "      <th>boat</th>\n",
       "      <th>body</th>\n",
       "      <th>home.dest</th>\n",
       "      <th>gender</th>\n",
       "      <th>total_relatives</th>\n",
       "      <th>embarked_port</th>\n",
       "      <th>survived_status</th>\n",
       "    </tr>\n",
       "  </thead>\n",
       "  <tbody>\n",
       "    <tr>\n",
       "      <th>1235</th>\n",
       "      <td>3</td>\n",
       "      <td>0</td>\n",
       "      <td>Svensson, Mr. Johan</td>\n",
       "      <td>male</td>\n",
       "      <td>74.0</td>\n",
       "      <td>0</td>\n",
       "      <td>0</td>\n",
       "      <td>347060</td>\n",
       "      <td>7.775</td>\n",
       "      <td>NaN</td>\n",
       "      <td>S</td>\n",
       "      <td>NaN</td>\n",
       "      <td>NaN</td>\n",
       "      <td>NaN</td>\n",
       "      <td>0</td>\n",
       "      <td>0</td>\n",
       "      <td>Southampton</td>\n",
       "      <td>Died</td>\n",
       "    </tr>\n",
       "  </tbody>\n",
       "</table>\n",
       "</div>"
      ],
      "text/plain": [
       "      pclass  survived                 name   sex   age  sibsp  parch  ticket  \\\n",
       "1235       3         0  Svensson, Mr. Johan  male  74.0      0      0  347060   \n",
       "\n",
       "       fare cabin embarked boat  body home.dest  gender  total_relatives  \\\n",
       "1235  7.775   NaN        S  NaN   NaN       NaN       0                0   \n",
       "\n",
       "     embarked_port survived_status  \n",
       "1235   Southampton            Died  "
      ]
     },
     "execution_count": 406,
     "metadata": {},
     "output_type": "execute_result"
    }
   ],
   "source": [
    "# oldest dead\n",
    "died_df = titanic[titanic['survived_status']=='Died']\n",
    "died_df = died_df[died_df['age']==died_df['age'].max()]\n",
    "died_df"
   ]
  },
  {
   "cell_type": "code",
   "execution_count": 404,
   "id": "d11678d0",
   "metadata": {},
   "outputs": [
    {
     "data": {
      "text/html": [
       "<div>\n",
       "<style scoped>\n",
       "    .dataframe tbody tr th:only-of-type {\n",
       "        vertical-align: middle;\n",
       "    }\n",
       "\n",
       "    .dataframe tbody tr th {\n",
       "        vertical-align: top;\n",
       "    }\n",
       "\n",
       "    .dataframe thead th {\n",
       "        text-align: right;\n",
       "    }\n",
       "</style>\n",
       "<table border=\"1\" class=\"dataframe\">\n",
       "  <thead>\n",
       "    <tr style=\"text-align: right;\">\n",
       "      <th></th>\n",
       "      <th>pclass</th>\n",
       "      <th>survived</th>\n",
       "      <th>name</th>\n",
       "      <th>sex</th>\n",
       "      <th>age</th>\n",
       "      <th>sibsp</th>\n",
       "      <th>parch</th>\n",
       "      <th>ticket</th>\n",
       "      <th>fare</th>\n",
       "      <th>cabin</th>\n",
       "      <th>embarked</th>\n",
       "      <th>boat</th>\n",
       "      <th>body</th>\n",
       "      <th>home.dest</th>\n",
       "      <th>gender</th>\n",
       "      <th>total_relatives</th>\n",
       "      <th>embarked_port</th>\n",
       "      <th>survived_status</th>\n",
       "    </tr>\n",
       "  </thead>\n",
       "  <tbody>\n",
       "    <tr>\n",
       "      <th>763</th>\n",
       "      <td>3</td>\n",
       "      <td>1</td>\n",
       "      <td>Dean, Miss. Elizabeth Gladys \"Millvina\"</td>\n",
       "      <td>female</td>\n",
       "      <td>0.17</td>\n",
       "      <td>1</td>\n",
       "      <td>2</td>\n",
       "      <td>C.A. 2315</td>\n",
       "      <td>20.575</td>\n",
       "      <td>NaN</td>\n",
       "      <td>S</td>\n",
       "      <td>10</td>\n",
       "      <td>NaN</td>\n",
       "      <td>Devon, England Wichita, KS</td>\n",
       "      <td>1</td>\n",
       "      <td>3</td>\n",
       "      <td>Southampton</td>\n",
       "      <td>Survived</td>\n",
       "    </tr>\n",
       "  </tbody>\n",
       "</table>\n",
       "</div>"
      ],
      "text/plain": [
       "     pclass  survived                                     name     sex   age  \\\n",
       "763       3         1  Dean, Miss. Elizabeth Gladys \"Millvina\"  female  0.17   \n",
       "\n",
       "     sibsp  parch     ticket    fare cabin embarked boat  body  \\\n",
       "763      1      2  C.A. 2315  20.575   NaN        S   10   NaN   \n",
       "\n",
       "                      home.dest  gender  total_relatives embarked_port  \\\n",
       "763  Devon, England Wichita, KS       1                3   Southampton   \n",
       "\n",
       "    survived_status  \n",
       "763        Survived  "
      ]
     },
     "execution_count": 404,
     "metadata": {},
     "output_type": "execute_result"
    }
   ],
   "source": [
    "# youngest passenger on Titanic\n",
    "youngest_df = titanic[titanic['age']==titanic['age'].min()]\n",
    "youngest_df\n",
    "\n",
    "# result yielded the youngest on Titanic. Dean, Miss. Elizabeth Gladys \"Millvina\" was also the youngest survived."
   ]
  },
  {
   "cell_type": "code",
   "execution_count": 405,
   "id": "cb006018",
   "metadata": {},
   "outputs": [
    {
     "data": {
      "text/html": [
       "<div>\n",
       "<style scoped>\n",
       "    .dataframe tbody tr th:only-of-type {\n",
       "        vertical-align: middle;\n",
       "    }\n",
       "\n",
       "    .dataframe tbody tr th {\n",
       "        vertical-align: top;\n",
       "    }\n",
       "\n",
       "    .dataframe thead th {\n",
       "        text-align: right;\n",
       "    }\n",
       "</style>\n",
       "<table border=\"1\" class=\"dataframe\">\n",
       "  <thead>\n",
       "    <tr style=\"text-align: right;\">\n",
       "      <th></th>\n",
       "      <th>pclass</th>\n",
       "      <th>survived</th>\n",
       "      <th>name</th>\n",
       "      <th>sex</th>\n",
       "      <th>age</th>\n",
       "      <th>sibsp</th>\n",
       "      <th>parch</th>\n",
       "      <th>ticket</th>\n",
       "      <th>fare</th>\n",
       "      <th>cabin</th>\n",
       "      <th>embarked</th>\n",
       "      <th>boat</th>\n",
       "      <th>body</th>\n",
       "      <th>home.dest</th>\n",
       "      <th>gender</th>\n",
       "      <th>total_relatives</th>\n",
       "      <th>embarked_port</th>\n",
       "      <th>survived_status</th>\n",
       "    </tr>\n",
       "  </thead>\n",
       "  <tbody>\n",
       "    <tr>\n",
       "      <th>14</th>\n",
       "      <td>1</td>\n",
       "      <td>1</td>\n",
       "      <td>Barkworth, Mr. Algernon Henry Wilson</td>\n",
       "      <td>male</td>\n",
       "      <td>80.0</td>\n",
       "      <td>0</td>\n",
       "      <td>0</td>\n",
       "      <td>27042</td>\n",
       "      <td>30.0</td>\n",
       "      <td>A23</td>\n",
       "      <td>S</td>\n",
       "      <td>B</td>\n",
       "      <td>NaN</td>\n",
       "      <td>Hessle, Yorks</td>\n",
       "      <td>0</td>\n",
       "      <td>0</td>\n",
       "      <td>Southampton</td>\n",
       "      <td>Survived</td>\n",
       "    </tr>\n",
       "  </tbody>\n",
       "</table>\n",
       "</div>"
      ],
      "text/plain": [
       "    pclass  survived                                  name   sex   age  sibsp  \\\n",
       "14       1         1  Barkworth, Mr. Algernon Henry Wilson  male  80.0      0   \n",
       "\n",
       "    parch ticket  fare cabin embarked boat  body      home.dest  gender  \\\n",
       "14      0  27042  30.0   A23        S    B   NaN  Hessle, Yorks       0   \n",
       "\n",
       "    total_relatives embarked_port survived_status  \n",
       "14                0   Southampton        Survived  "
      ]
     },
     "execution_count": 405,
     "metadata": {},
     "output_type": "execute_result"
    }
   ],
   "source": [
    "# find oldest passenger on Titanic\n",
    "oldest_df = titanic[titanic['age']==titanic['age'].max()]\n",
    "oldest_df\n",
    "\n",
    "# result yielded the oldest on Titanic. Barkworth, Mr. Algernon Henry Wilson was also the oldest survived. "
   ]
  }
 ],
 "metadata": {
  "kernelspec": {
   "display_name": "Python 3 (ipykernel)",
   "language": "python",
   "name": "python3"
  },
  "language_info": {
   "codemirror_mode": {
    "name": "ipython",
    "version": 3
   },
   "file_extension": ".py",
   "mimetype": "text/x-python",
   "name": "python",
   "nbconvert_exporter": "python",
   "pygments_lexer": "ipython3",
   "version": "3.7.11"
  }
 },
 "nbformat": 4,
 "nbformat_minor": 5
}
